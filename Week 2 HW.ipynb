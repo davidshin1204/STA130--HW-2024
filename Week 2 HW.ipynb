{
 "cells": [
  {
   "cell_type": "code",
   "execution_count": 1,
   "id": "8a4b004c",
   "metadata": {},
   "outputs": [
    {
     "data": {
      "text/plain": [
       "0.66665"
      ]
     },
     "execution_count": 1,
     "metadata": {},
     "output_type": "execute_result"
    }
   ],
   "source": [
    "# Cell to demo what the above code does\n",
    "# Add more code cells to keep a record of the demos\n",
    "# Monte Hall Simulation Code -- not the only way to code this, but it's what Prof. Schwartz came up with...\n",
    "\n",
    "import numpy as np\n",
    "all_door_options = (1,2,3)  # tuple\n",
    "my_door_choice = 1  # 1,2,3\n",
    "i_won = 0\n",
    "reps = 100000\n",
    "for i in range(reps):\n",
    "    secret_winning_door = np.random.choice(all_door_options)\n",
    "    all_door_options_list = list(all_door_options)\n",
    "    # take the secret_winning_door, so we don't show it as a \"goat\" losing door\n",
    "    all_door_options_list.remove(secret_winning_door)\n",
    "    try:\n",
    "        # if my_door_choice was secret_winning_door then it's already removed\n",
    "        all_door_options_list.remove(my_door_choice)\n",
    "    except:\n",
    "        pass\n",
    "    # show a \"goat\" losing door and remove it\n",
    "    goat_door_reveal = np.random.choice(all_door_options_list)\n",
    "    all_door_options_list.remove(goat_door_reveal)\n",
    "\n",
    "    # put the secret_winning_door back in if it wasn't our choice\n",
    "    # we previously removed it, so it would be shown as a  \"goat\" losing door\n",
    "    if secret_winning_door != my_door_choice:\n",
    "        all_door_options_list.append(secret_winning_door)\n",
    "    # if secret_winning_door was our choice then all that's left in the list is a \"goat\" losing door\n",
    "    # if secret_winning_door wasn't our choice then it's all that will be left in the list\n",
    "\n",
    "    # swap strategy\n",
    "    my_door_choice = all_door_options_list[0]\n",
    "\n",
    "    if my_door_choice == secret_winning_door:\n",
    "        i_won += 1\n",
    "\n",
    "i_won/reps"
   ]
  },
  {
   "cell_type": "code",
   "execution_count": null,
   "id": "1778d029",
   "metadata": {},
   "outputs": [],
   "source": []
  },
  {
   "cell_type": "markdown",
   "id": "a693c184",
   "metadata": {},
   "source": [
    "The simulation runs the Monty Hall problem 100,000 times, where the player always switches their initial choice. The code calculates how often the player wins after switching, which should be around 66.67% since switching doors gives a higher probability of winning.\n",
    "\n",
    "\n",
    "\n",
    "\n",
    "\n"
   ]
  },
  {
   "cell_type": "markdown",
   "id": "557e7b50",
   "metadata": {},
   "source": [
    "Pre-Lecture 2"
   ]
  },
  {
   "cell_type": "code",
   "execution_count": 2,
   "id": "fd0aa025",
   "metadata": {},
   "outputs": [
    {
     "data": {
      "text/plain": [
       "0.66646"
      ]
     },
     "execution_count": 2,
     "metadata": {},
     "output_type": "execute_result"
    }
   ],
   "source": [
    "#Imporved code _ gpt\n",
    "\n",
    "import numpy as np\n",
    "\n",
    "all_door_options = (1, 2, 3)  # tuple of doors\n",
    "reps = 100000  # number of simulations\n",
    "i_won = 0  # win counter\n",
    "\n",
    "for i in range(reps):\n",
    "    # Randomly assign the winning door\n",
    "    winning_door = np.random.choice(all_door_options)\n",
    "    \n",
    "    # The player randomly picks a door\n",
    "    player_choice = np.random.choice(all_door_options)\n",
    "    \n",
    "    # Host reveals a losing (goat) door that is not the player's choice or the winning door\n",
    "    remaining_doors = [door for door in all_door_options if door != player_choice and door != winning_door]\n",
    "    revealed_goat_door = np.random.choice(remaining_doors)\n",
    "    \n",
    "    # Player switches to the other remaining door\n",
    "    remaining_doors = [door for door in all_door_options if door != player_choice and door != revealed_goat_door]\n",
    "    player_choice = remaining_doors[0]\n",
    "    \n",
    "    # Check if the player's new choice is the winning door\n",
    "    if player_choice == winning_door:\n",
    "        i_won += 1\n",
    "\n",
    "# Calculate the win percentage when switching\n",
    "win_percentage = i_won / reps\n",
    "win_percentage\n"
   ]
  },
  {
   "cell_type": "markdown",
   "id": "9c643928",
   "metadata": {},
   "source": [
    "\n",
    "\n",
    "| Aspect                      | Original Code                                         | Improved Code                                      \n",
    "\n",
    "| **Door Management**       | Manually removes and re-adds doors                    | Uses list filtering to determine remaining doors           \n",
    "| **Error Handling**        | Uses `try-except` for special cases                   | No need for error handling; relies on list comprehensions    \n",
    "| **Switching Strategy**    | Adds the winning door back if necessary               | Directly switches to the remaining door without extra logic  \n",
    "| **Simplicity**            | More steps and list manipulations                     | Linear and streamlined flow                                 \n",
    "| **Readability**           | Harder to follow due to state changes and conditions  | Easier to follow with clear, isolated steps                 \n",
    "| **Explainability**        | Requires more detailed explanation for each step      | Clear and direct steps with minimal state changes           \n"
   ]
  },
  {
   "cell_type": "markdown",
   "id": "8612265b",
   "metadata": {},
   "source": [
    "Pre-Lecture 3 "
   ]
  },
  {
   "cell_type": "code",
   "execution_count": 3,
   "id": "68d41a2c",
   "metadata": {},
   "outputs": [
    {
     "data": {
      "text/plain": [
       "0.66471"
      ]
     },
     "execution_count": 3,
     "metadata": {},
     "output_type": "execute_result"
    }
   ],
   "source": [
    "import numpy as np  # Importing numpy for random selection\n",
    "\n",
    "# Define the three door options\n",
    "all_door_options = (1, 2, 3)  # tuple of doors 1, 2, and 3\n",
    "\n",
    "reps = 100000  # Number of simulations (100,000 repetitions)\n",
    "i_won = 0  # Counter to keep track of how many times the player wins by switching doors\n",
    "\n",
    "# Loop over the number of simulations\n",
    "for i in range(reps):\n",
    "    \n",
    "    # Randomly assign the winning door (the door with the car behind it)\n",
    "    winning_door = np.random.choice(all_door_options)\n",
    "    \n",
    "    # The player randomly picks a door (could be the winning one or a losing one)\n",
    "    player_choice = np.random.choice(all_door_options)\n",
    "    \n",
    "    # The host reveals a goat door (a losing door) that is neither the player's choice nor the winning door\n",
    "    remaining_doors = [door for door in all_door_options if door != player_choice and door != winning_door]\n",
    "    \n",
    "    # Randomly select a goat door from the remaining doors\n",
    "    revealed_goat_door = np.random.choice(remaining_doors)\n",
    "    \n",
    "    # Player now switches to the remaining unopened door (not the initially chosen one and not the revealed goat door)\n",
    "    remaining_doors = [door for door in all_door_options if door != player_choice and door != revealed_goat_door]\n",
    "    \n",
    "    # Player switches to the only remaining door after the host reveals a goat\n",
    "    player_choice = remaining_doors[0]\n",
    "    \n",
    "    # Check if the player's new choice (after switching) is the winning door\n",
    "    if player_choice == winning_door:\n",
    "        i_won += 1  # Increment the win counter if the player chose the winning door\n",
    "\n",
    "# Calculate the probability of winning when switching doors\n",
    "win_percentage = i_won / reps\n",
    "\n",
    "# Display the win percentage after all simulations\n",
    "win_percentage\n"
   ]
  },
  {
   "cell_type": "markdown",
   "id": "c2341401",
   "metadata": {},
   "source": [
    "\n",
    "\n",
    "1. **Original Monte Hall Code Explanation**: \n",
    "   - We went through each part of your original Monte Hall simulation code, explaining the logic and purpose behind each step, such as random door selection, revealing a goat door, switching strategy, and calculating the win percentage.\n",
    "\n",
    "2. **Streamlined Code**: \n",
    "   - I provided an improved, streamlined version of the simulation code. This version uses list comprehensions and avoids manual removal and re-addition of doors. It simplifies the process of filtering doors and enhances readability by eliminating unnecessary complexity like the `try-except` block.\n",
    "\n",
    "3. **Differences Between Original and Improved Code**:\n",
    "   - We compared the original and improved codes in terms of readability and explainability. The improved version is more linear, easier to follow, and less error-prone, making it clearer for explanation, especially for beginners.\n",
    "\n",
    "4. **Commented Version of the Improved Code**:\n",
    "   - I added detailed comments to the improved version of the code to explain the purpose of each line, making it easier to understand step by step, from random door selection to switching strategy and win calculation.\n",
    "\n",
    "https://chatgpt.com/share/66eb3997-2388-8002-9401-e7f52150f320"
   ]
  },
  {
   "cell_type": "markdown",
   "id": "d88a38db",
   "metadata": {},
   "source": [
    "Pre-Lecture 4"
   ]
  },
  {
   "cell_type": "code",
   "execution_count": 4,
   "id": "ba65aea7",
   "metadata": {},
   "outputs": [
    {
     "data": {
      "image/jpeg": "[encoded data removed]",
      "text/html": [
       "\n",
       "        <iframe\n",
       "            width=\"550\"\n",
       "            height=\"300\"\n",
       "            src=\"https://www.youtube.com/embed/56mGTszb_iM\"\n",
       "            frameborder=\"0\"\n",
       "            allowfullscreen\n",
       "            \n",
       "        ></iframe>\n",
       "        "
      ],
      "text/plain": [
       "<IPython.lib.display.YouTubeVideo at 0x7fb1834fbc90>"
      ]
     },
     "execution_count": 4,
     "metadata": {},
     "output_type": "execute_result"
    }
   ],
   "source": [
    "# Markov Chains and Text Generation\n",
    "from IPython.display import YouTubeVideo\n",
    "YouTubeVideo('56mGTszb_iM', width = 550)"
   ]
  },
  {
   "cell_type": "markdown",
   "id": "0b0fce54",
   "metadata": {},
   "source": [
    "How Markovian code works_gpt "
   ]
  },
  {
   "cell_type": "markdown",
   "id": "df6d400b",
   "metadata": {},
   "source": [
    "This code is implementing a simple **Markovian Chatbot** by analyzing the sequence of words in a dataset to predict the next word based on the previous one. It operates using the following logic:\n",
    "\n",
    "### Step-by-Step Explanation\n",
    "\n",
    "1. **Data Structures**:\n",
    "   - `word_used`: A dictionary that tracks how many times each word appears in the dataset. It's used to count the occurrences of each word.\n",
    "   - `next_word`: A dictionary of dictionaries that keeps track of the probability of one word following another. The outer dictionary's keys are words, and each value is another dictionary that maps potential next words to their frequency.\n",
    "\n",
    "2. **Main Loop**:\n",
    "   - The loop `for i, word in enumerate(words[:-1]):` iterates over the list `words`, excluding the last word (because the loop is always looking at pairs of words, and there is no word after the last word).\n",
    "   \n",
    "3. **Tracking Word Occurrences**:\n",
    "   - For each word in the loop (`word`), the code checks if it has been encountered before in `word_used`:\n",
    "     - If the word is already in `word_used`, it increments its count (`word_used[word] += 1`).\n",
    "     - If the word is not in `word_used`, it initializes its count to 1 and sets up an empty dictionary for `next_word[word]`.\n",
    "   \n",
    "4. **Tracking the Next Word**:\n",
    "   - After the code processes the current word, it checks what the next word in the list (`words[i+1]`) is.\n",
    "   - In `next_word`, it updates the dictionary for the current word (`word`) to record how many times each possible \"next word\" follows it.\n",
    "     - If the next word has already been recorded as a possible next word for the current word, it increments its count.\n",
    "     - If it hasn't been recorded yet, it initializes the count to 1.\n",
    "\n",
    "### How it Works:\n",
    "\n",
    "- **Markov Chain Principle**: This code uses the Markov chain concept, where the next state (or word) depends only on the current state (or word), not on the full sequence before it. In this case, the chatbot learns which words are most likely to follow a given word by counting the occurrences of word pairs.\n",
    "\n",
    "- **Training**: As the code processes the list of words, it builds up a statistical model of word transitions. For example, if the dataset is a text of sentences, the code will know how frequently certain words follow others, like \"hello\" might frequently be followed by \"world.\"\n",
    "\n",
    "- **Chatbot Generation**: Once the model is built, the chatbot can use it to generate text by picking a starting word and using the `next_word` dictionary to select the next word probabilistically based on past data.\n",
    "\n",
    "### Example:\n",
    "\n",
    "If the input list of words is `[\"I\", \"am\", \"a\", \"chatbot\", \"I\", \"am\", \"learning\"]`, the resulting structures would look like:\n",
    "\n",
    "- `word_used = {\"I\": 2, \"am\": 2, \"a\": 1, \"chatbot\": 1, \"learning\": 1}`\n",
    "- `next_word = {\"I\": {\"am\": 2}, \"am\": {\"a\": 1, \"learning\": 1}, \"a\": {\"chatbot\": 1}, \"chatbot\": {\"I\": 1}}`\n",
    "\n",
    "This information can then be used to predict future word sequences."
   ]
  },
  {
   "cell_type": "markdown",
   "id": "abd5d629",
   "metadata": {},
   "source": [
    "Post-Lecture 5 \n"
   ]
  },
  {
   "cell_type": "markdown",
   "id": "3b39ce28",
   "metadata": {},
   "source": [
    "1,2)"
   ]
  },
  {
   "cell_type": "markdown",
   "id": "05e14842",
   "metadata": {},
   "source": [
    "\n",
    "\n",
    "### **Markovian Chatbot Extension #1**:\n",
    "\n",
    "```python\n",
    "word_used2 = defaultdict(int)\n",
    "next_word2 = defaultdict(lambda: defaultdict(int))\n",
    "\n",
    "for i,word in enumerate(words[:-2]):\n",
    "    word_used2[word+' '+words[i+1]] += 1\n",
    "    next_word2[word+' '+words[i+1]][words[i+2]] += 1\n",
    "```\n",
    "\n",
    "#### **Explanation**:\n",
    "- This extension adds an extra level of sophistication by using **pairs of consecutive words** as the key in both the `word_used2` and `next_word2` dictionaries. \n",
    "- Instead of predicting the next word based on a single word (as in the original version), this extension predicts the next word based on a pair of words.\n",
    "  \n",
    "**Key Points**:\n",
    "1. **`word_used2[word+' '+words[i+1]]`**:\n",
    "   - Tracks how many times a pair of words appears in the dataset. For example, if `words[i] = \"I\"` and `words[i+1] = \"am\"`, it will increment the count of `\"I am\"` in `word_used2`.\n",
    "   \n",
    "2. **`next_word2[word+' '+words[i+1]][words[i+2]]`**:\n",
    "   - Tracks how often a word (`words[i+2]`) follows the pair of words. So, if `words[i+2] = \"a\"`, it increments the count of the pair `\"I am\"` followed by `\"a\"`.\n",
    "   \n",
    "**Behavior**:\n",
    "- By working with word pairs, this extension makes the prediction model more nuanced. Instead of considering only one word at a time, it now has context from two words, which can improve sentence coherence.\n",
    "\n",
    "#### **Example**:\n",
    "If the dataset consists of `[\"I\", \"am\", \"a\", \"chatbot\", \"I\", \"am\", \"learning\"]`, the structures might look like:\n",
    "- `word_used2 = {\"I am\": 2, \"am a\": 1, \"a chatbot\": 1}`\n",
    "- `next_word2 = {\"I am\": {\"a\": 1, \"learning\": 1}, \"am a\": {\"chatbot\": 1}, \"a chatbot\": {\"I\": 1}}`\n",
    "\n",
    "---\n",
    "\n",
    "### **Markovian Chatbot Extension #2**:\n",
    "\n",
    "```python\n",
    "from collections import Counter, defaultdict\n",
    "\n",
    "characters = Counter(\"\\n\"+ avatar.character.str.upper().str.replace(' ','.')+\":\")\n",
    "nested_dict = lambda: defaultdict(nested_dict)\n",
    "word_used2C = nested_dict()\n",
    "next_word2C = nested_dict()\n",
    "\n",
    "for i,word in enumerate(words[:-2]):\n",
    "    if word in characters:\n",
    "        character = word\n",
    "        \n",
    "    if character not in word_used2C:\n",
    "        word_used2C[character] = dict()\n",
    "    if word+' '+words[i+1] not in word_used2C[character]:\n",
    "        word_used2C[character][word+' '+words[i+1]] = 0\n",
    "    word_used2C[character][word+' '+words[i+1]] += 1\n",
    "    \n",
    "    if character not in next_word2C:\n",
    "        next_word2C[character] = dict()\n",
    "    if word+' '+words[i+1] not in next_word2C[character]:\n",
    "        next_word2C[character][word+' '+words[i+1]] = dict()\n",
    "    if words[i+2] not in next_word2C[character][word+' '+words[i+1]]:\n",
    "        next_word2C[character][word+' '+words[i+1]][words[i+2]] = 0\n",
    "    next_word2C[character][word+' '+words[i+1]][words[i+2]] += 1\n",
    "```\n",
    "\n",
    "#### **Explanation**:\n",
    "- This extension is more advanced as it associates the Markovian predictions with **specific characters** from a dataset.\n",
    "- The dataset contains a column `character`, and the code transforms the text in this column to uppercase and replaces spaces with dots to create a unique string format (e.g., \"CHARACTER NAME:\" becomes `\"CHARACTER.NAME:\"`).\n",
    "- It then builds separate Markov chains (word transitions) **for each character**.\n",
    "\n",
    "**Key Points**:\n",
    "1. **`characters = Counter(\"\\n\"+ avatar.character.str.upper().str.replace(' ','.')+\":\")`**:\n",
    "   - This line generates a count of each character in the dataset by transforming the text to uppercase and replacing spaces with dots (likely to standardize the format for easier processing).\n",
    "\n",
    "2. **`nested_dict = lambda: defaultdict(nested_dict)`**:\n",
    "   - `nested_dict` creates a recursive dictionary structure. This allows for deeply nested dictionaries where you can store multiple layers of word associations for each character.\n",
    "\n",
    "3. **Tracking Words for Each Character**:\n",
    "   - For each word, the code checks if it is a character's name (from the `characters` dataset). If it is, it associates the word pair and its subsequent word with that character.\n",
    "   - It builds the `word_used2C` and `next_word2C` dictionaries **for each character** separately, allowing the chatbot to make predictions based on character-specific word usage.\n",
    "\n",
    "#### **Behavior**:\n",
    "- This extension allows the chatbot to generate context-aware responses for specific characters based on their typical word usage patterns.\n",
    "\n",
    "#### **Example**:\n",
    "If `avatar.character` has a list of names like `[\"John Doe\", \"Jane Doe\"]`, it will standardize these names as `\"JOHN.DOE:\"` and `\"JANE.DOE:\"`. Then, for each of these characters, it tracks their word pairs and predicts future words based on their individual speaking patterns.\n",
    "\n",
    "---\n",
    "\n",
    "### **Summary of the Extensions**:\n",
    "\n",
    "- **Extension #1**: \n",
    "  - Focuses on word pairs rather than single words to improve prediction accuracy by adding more context (two words instead of one).\n",
    "  \n",
    "- **Extension #2**: \n",
    "  - Associates word prediction with specific characters, making the chatbot capable of generating responses that are character-specific based on how those characters speak.\n",
    "\n",
    "Both extensions enhance the original Markovian Chatbot by increasing context, with one focusing on word-pair sequences and the other associating predictions with distinct characters."
   ]
  },
  {
   "cell_type": "markdown",
   "id": "ff6205d1",
   "metadata": {},
   "source": [
    "3 )"
   ]
  },
  {
   "cell_type": "code",
   "execution_count": 6,
   "id": "d47d704a",
   "metadata": {},
   "outputs": [
    {
     "ename": "NameError",
     "evalue": "name 'next_word' is not defined",
     "output_type": "error",
     "traceback": [
      "\u001b[0;31m---------------------------------------------------------------------------\u001b[0m",
      "\u001b[0;31mNameError\u001b[0m                                 Traceback (most recent call last)",
      "Cell \u001b[0;32mIn[6], line 23\u001b[0m\n\u001b[1;32m     21\u001b[0m \u001b[38;5;66;03m# Example usage:\u001b[39;00m\n\u001b[1;32m     22\u001b[0m start \u001b[38;5;241m=\u001b[39m \u001b[38;5;124m'\u001b[39m\u001b[38;5;124mthe\u001b[39m\u001b[38;5;124m'\u001b[39m  \u001b[38;5;66;03m# You can choose any start word\u001b[39;00m\n\u001b[0;32m---> 23\u001b[0m \u001b[38;5;28mprint\u001b[39m(\u001b[43mgenerate_sentence\u001b[49m\u001b[43m(\u001b[49m\u001b[43mstart\u001b[49m\u001b[43m)\u001b[49m)\n",
      "Cell \u001b[0;32mIn[6], line 10\u001b[0m, in \u001b[0;36mgenerate_sentence\u001b[0;34m(start_word, max_length)\u001b[0m\n\u001b[1;32m      7\u001b[0m current_word \u001b[38;5;241m=\u001b[39m start_word\n\u001b[1;32m      9\u001b[0m \u001b[38;5;28;01mfor\u001b[39;00m _ \u001b[38;5;129;01min\u001b[39;00m \u001b[38;5;28mrange\u001b[39m(max_length):\n\u001b[0;32m---> 10\u001b[0m     \u001b[38;5;28;01mif\u001b[39;00m current_word \u001b[38;5;129;01mnot\u001b[39;00m \u001b[38;5;129;01min\u001b[39;00m \u001b[43mnext_word\u001b[49m:\n\u001b[1;32m     11\u001b[0m         \u001b[38;5;28;01mbreak\u001b[39;00m  \u001b[38;5;66;03m# End if there are no known follow-up words\u001b[39;00m\n\u001b[1;32m     13\u001b[0m     next_words \u001b[38;5;241m=\u001b[39m \u001b[38;5;28mlist\u001b[39m(next_word[current_word]\u001b[38;5;241m.\u001b[39mkeys())\n",
      "\u001b[0;31mNameError\u001b[0m: name 'next_word' is not defined"
     ]
    }
   ],
   "source": [
    "#extension code gpt provided\n",
    "\n",
    "import random\n",
    "\n",
    "def generate_sentence(start_word, max_length=10):\n",
    "    sentence = [start_word]\n",
    "    current_word = start_word\n",
    "\n",
    "    for _ in range(max_length):\n",
    "        if current_word not in next_word:\n",
    "            break  # End if there are no known follow-up words\n",
    "        \n",
    "        next_words = list(next_word[current_word].keys())\n",
    "        probabilities = [next_word[current_word][w] / word_used[current_word] for w in next_words]\n",
    "        \n",
    "        current_word = random.choices(next_words, weights=probabilities)[0]\n",
    "        sentence.append(current_word)\n",
    "    \n",
    "    return ' '.join(sentence)\n",
    "\n",
    "# Example usage:\n",
    "start = 'the'  # You can choose any start word\n",
    "print(generate_sentence(start))\n"
   ]
  },
  {
   "cell_type": "code",
   "execution_count": 7,
   "id": "77dd644e",
   "metadata": {},
   "outputs": [
    {
     "ename": "NameError",
     "evalue": "name 'words' is not defined",
     "output_type": "error",
     "traceback": [
      "\u001b[0;31m---------------------------------------------------------------------------\u001b[0m",
      "\u001b[0;31mNameError\u001b[0m                                 Traceback (most recent call last)",
      "Cell \u001b[0;32mIn[7], line 6\u001b[0m\n\u001b[1;32m      3\u001b[0m next_word \u001b[38;5;241m=\u001b[39m \u001b[38;5;28mdict\u001b[39m()\n\u001b[1;32m      5\u001b[0m \u001b[38;5;66;03m# Populate next_word and word_used as before\u001b[39;00m\n\u001b[0;32m----> 6\u001b[0m \u001b[38;5;28;01mfor\u001b[39;00m i, word \u001b[38;5;129;01min\u001b[39;00m \u001b[38;5;28menumerate\u001b[39m(\u001b[43mwords\u001b[49m[:\u001b[38;5;241m-\u001b[39m\u001b[38;5;241m1\u001b[39m]):\n\u001b[1;32m      7\u001b[0m     \u001b[38;5;28;01mif\u001b[39;00m word \u001b[38;5;129;01min\u001b[39;00m word_used:\n\u001b[1;32m      8\u001b[0m         word_used[word] \u001b[38;5;241m+\u001b[39m\u001b[38;5;241m=\u001b[39m \u001b[38;5;241m1\u001b[39m\n",
      "\u001b[0;31mNameError\u001b[0m: name 'words' is not defined"
     ]
    }
   ],
   "source": [
    "# Define next_word and word_used globally\n",
    "word_used = dict()\n",
    "next_word = dict()\n",
    "\n",
    "# Populate next_word and word_used as before\n",
    "for i, word in enumerate(words[:-1]):\n",
    "    if word in word_used:\n",
    "        word_used[word] += 1\n",
    "    else:\n",
    "        word_used[word] = 1\n",
    "        next_word[word] = {}\n",
    "\n",
    "    if words[i + 1] in next_word[word]:\n",
    "        next_word[word][words[i + 1]] += 1\n",
    "    else:\n",
    "        next_word[word][words[i + 1]] = 1\n",
    "\n",
    "# Define generate_sentence using the global next_word and word_used\n",
    "def generate_sentence(start_word, max_length=10):\n",
    "    sentence = [start_word]\n",
    "    current_word = start_word\n",
    "\n",
    "    for _ in range(max_length):\n",
    "        if current_word not in next_word:\n",
    "            break  # End if there are no known follow-up words\n",
    "\n",
    "        next_words = list(next_word[current_word].keys())\n",
    "        probabilities = [next_word[current_word][w] / word_used[current_word] for w in next_words]\n",
    "\n",
    "        current_word = random.choices(next_words, weights=probabilities)[0]\n",
    "        sentence.append(current_word)\n",
    "\n",
    "    return ' '.join(sentence)\n",
    "\n",
    "# Example usage\n",
    "start = 'the'  # Ensure that 'the' exists in the next_word dictionary\n",
    "print(generate_sentence(start))\n"
   ]
  },
  {
   "cell_type": "code",
   "execution_count": 8,
   "id": "13236690",
   "metadata": {},
   "outputs": [
    {
     "name": "stdout",
     "output_type": "stream",
     "text": [
      "This is an example text for building a Markov chain chatbot.\n"
     ]
    }
   ],
   "source": [
    "# Example of defining 'words' from a text string\n",
    "text = \"This is an example text for building a Markov chain chatbot. It will predict the next word based on this text.\"\n",
    "words = text.split()  # Split the text into words\n",
    "\n",
    "# Define next_word and word_used globally\n",
    "word_used = dict()\n",
    "next_word = dict()\n",
    "\n",
    "# Populate next_word and word_used as before\n",
    "for i, word in enumerate(words[:-1]):\n",
    "    if word in word_used:\n",
    "        word_used[word] += 1\n",
    "    else:\n",
    "        word_used[word] = 1\n",
    "        next_word[word] = {}\n",
    "\n",
    "    if words[i + 1] in next_word[word]:\n",
    "        next_word[word][words[i + 1]] += 1\n",
    "    else:\n",
    "        next_word[word][words[i + 1]] = 1\n",
    "\n",
    "# Define generate_sentence using the global next_word and word_used\n",
    "def generate_sentence(start_word, max_length=10):\n",
    "    sentence = [start_word]\n",
    "    current_word = start_word\n",
    "\n",
    "    for _ in range(max_length):\n",
    "        if current_word not in next_word:\n",
    "            break  # End if there are no known follow-up words\n",
    "\n",
    "        next_words = list(next_word[current_word].keys())\n",
    "        probabilities = [next_word[current_word][w] / word_used[current_word] for w in next_words]\n",
    "\n",
    "        current_word = random.choices(next_words, weights=probabilities)[0]\n",
    "        sentence.append(current_word)\n",
    "\n",
    "    return ' '.join(sentence)\n",
    "\n",
    "# Example usage\n",
    "start = 'This'  # Ensure that the start word exists in the next_word dictionary\n",
    "print(generate_sentence(start))\n"
   ]
  },
  {
   "cell_type": "code",
   "execution_count": 9,
   "id": "7a907e57",
   "metadata": {},
   "outputs": [
    {
     "ename": "SyntaxError",
     "evalue": "incomplete input (3820480735.py, line 21)",
     "output_type": "error",
     "traceback": [
      "\u001b[0;36m  Cell \u001b[0;32mIn[9], line 21\u001b[0;36m\u001b[0m\n\u001b[0;31m    \u001b[0m\n\u001b[0m    ^\u001b[0m\n\u001b[0;31mSyntaxError\u001b[0m\u001b[0;31m:\u001b[0m incomplete input\n"
     ]
    }
   ],
   "source": [
    "# Markovian Chatbot\n",
    "\n",
    "\n",
    "# from collections import defaultdict\n",
    "word_used = dict() # defaultdict(int)\n",
    "next_word = dict() # defaultdict(lambda: defaultdict(int))\n",
    "for i,word in enumerate(words[:-1]):\n",
    "\n",
    "\n",
    "    if word in word_used:\n",
    "        word_used[word] += 1\n",
    "    else:\n",
    "        word_used[word] = 1\n",
    "        next_word[word] = {}\n",
    "\n",
    "\n",
    "    if words[i+1] in next_word[word]:\n",
    "        next_word[word][words[i+1]] += 1\n",
    "    else:\n",
    "\n",
    "        "
   ]
  },
  {
   "cell_type": "markdown",
   "id": "d1ebc369",
   "metadata": {},
   "source": [
    "https://chatgpt.com/share/66eb448e-4dc8-8002-8d3d-688eaa1d4864"
   ]
  },
  {
   "cell_type": "markdown",
   "id": "f73d1a08",
   "metadata": {},
   "source": [
    "6 )"
   ]
  },
  {
   "cell_type": "markdown",
   "id": "3b7f0c9d",
   "metadata": {},
   "source": [
    "**Report on Interacting with ChatBots**\n",
    "\n",
    "**1. Monte Hall Problem:**\n",
    "ChatBots did a great job explaining the Monte Hall problem quickly and clearly. They provided various perspectives and examples that made the concept easier to grasp.\n",
    "\n",
    "**2. \"Markovian ChatBot\" Code:**\n",
    "For the \"Markovian ChatBot\" code, the ChatBot was very helpful. It broke down the code into smaller parts and explained each one, making it easier to understand how everything fit together.\n",
    "\n",
    "**3. Frustrations:**\n",
    "There were moments when the ChatBot's responses were either too technical or too general, which meant I had to ask follow-up questions to get the details I needed. This sometimes felt a bit frustrating.\n",
    "\n",
    "**4. Overall Assessment:**\n",
    "ChatBots are great for quick help with learning and coding problems. They provide fast, varied explanations and are especially useful for getting started. However, they can struggle with very specific issues, so it's a good idea to use them alongside other resources."
   ]
  },
  {
   "cell_type": "markdown",
   "id": "3edfadb0",
   "metadata": {},
   "source": [
    "7 )"
   ]
  },
  {
   "cell_type": "markdown",
   "id": "4ba6d7a2",
   "metadata": {},
   "source": [
    "My view on ChatBots has changed since using them for coding and data science. I now find them really useful for breaking down complex topics and providing quick answers. However, they sometimes give vague or overly technical responses, so I use them alongside other resources for a fuller understanding. Overall, they're a handy tool but not a complete solution on their own."
   ]
  },
  {
   "cell_type": "markdown",
   "id": "029096ed",
   "metadata": {},
   "source": [
    "8 )"
   ]
  },
  {
   "cell_type": "markdown",
   "id": "95b2fbf4",
   "metadata": {},
   "source": [
    "8.1 \n",
    "\n",
    "Question : What is the relevance of learning and adaptability, communication, coding, and statistics and data analysis as skills in the modern world, especially with respect to career opportunities (particularly in the context of the data science industry)\n",
    "\n",
    "Chat bot: What is the relevance of learning and adaptability, communication, coding, and statistics and data analysis as skills in the modern world, especially with respect to career opportunities (particularly in the context of the data science industry)"
   ]
  },
  {
   "cell_type": "markdown",
   "id": "44a8ee0e",
   "metadata": {},
   "source": [
    "8.2 \n",
    "\n",
    "Question : Objectively, do you think anyone could be a statistician or data scientist without coding or doing data analysis\n",
    "\n",
    "CHatbot : Objectively, it would be very challenging to be a statistician or data scientist without coding or data analysis skills. Here’s why:\n",
    "\n",
    "1. **Coding**:\n",
    "   - **Essential for Data Handling**: Coding is crucial for handling and processing large datasets. It enables you to write scripts for data manipulation, automation of repetitive tasks, and building data pipelines.\n",
    "   - **Tool for Analysis**: Coding allows you to implement statistical models and machine learning algorithms. Without coding, it would be difficult to perform complex analyses or develop custom solutions.\n",
    "   - **Integration and Automation**: Coding skills are needed to integrate data with other systems, automate workflows, and ensure that your analyses are scalable and reproducible.\n",
    "\n",
    "2. **Data Analysis**:\n",
    "   - **Core Function**: Data analysis is the heart of what statisticians and data scientists do. It involves interpreting data, identifying patterns, and deriving insights that inform decision-making.\n",
    "   - **Statistical Methods**: Understanding statistical methods and techniques is essential for performing rigorous analyses, validating results, and making evidence-based recommendations.\n",
    "   - **Tool Proficiency**: Even with statistical software or tools, a fundamental grasp of data analysis principles is necessary to use these tools effectively and interpret their outputs correctly.\n",
    "\n",
    "While it’s theoretically possible to have a role in data science or statistics without coding or data analysis if you focus on areas like project management or client liaison, the core responsibilities of a statistician or data scientist inherently involve these skills. Coding and data analysis are integral to performing the technical and analytical tasks required in these professions.\n",
    "\n",
    "\n",
    "\n",
    "\n",
    "\n",
    "Question : What are the skills that might the most valuable for a career of sports data analysis?\n",
    "\n",
    "Chatbot : For a career in sports data analysis, a blend of technical, analytical, and domain-specific skills is crucial. Here are some of the most valuable skills:\n",
    "\n",
    "1. **Statistical Analysis**:\n",
    "   - **Importance**: Essential for interpreting data and making predictions about player performance, game outcomes, and team strategies. Knowledge of statistical techniques and methods is critical.\n",
    "   - **Tools**: Proficiency with statistical software and programming languages like R and Python.\n",
    "\n",
    "2. **Data Visualization**:\n",
    "   - **Importance**: Helps in presenting complex data in an understandable way for stakeholders such as coaches, team managers, and fans. Effective visualizations can reveal trends and insights that are not immediately obvious from raw data.\n",
    "   - **Tools**: Experience with visualization tools like Tableau, Power BI, or libraries such as Matplotlib and Seaborn in Python.\n",
    "\n",
    "3. **Coding and Programming**:\n",
    "   - **Importance**: Coding skills are necessary for data manipulation, analysis, and automation of tasks. It allows for the development of custom analysis tools and algorithms.\n",
    "   - **Languages**: Python and R are particularly useful, but knowledge of other languages like SQL for database management can also be beneficial.\n",
    "\n",
    "4. **Sports Knowledge**:\n",
    "   - **Importance**: Understanding the rules, strategies, and dynamics of the sport you're analyzing is crucial. It helps in making sense of the data and providing context for the insights derived.\n",
    "   - **Application**: Applying domain-specific knowledge to interpret data accurately and make actionable recommendations.\n",
    "\n",
    "5. **Machine Learning and Predictive Modeling**:\n",
    "   - **Importance**: Advanced analytics often involve predictive modeling to forecast player performance, game outcomes, or injury risks. Machine learning techniques can enhance these predictions.\n",
    "   - **Tools**: Familiarity with machine learning libraries and frameworks such as scikit-learn, TensorFlow, or Keras.\n",
    "\n",
    "6. **Database Management**:\n",
    "   - **Importance**: Sports data is often stored in large databases. Skills in database management and querying are important for accessing and manipulating data efficiently.\n",
    "   - **Tools**: Knowledge of SQL and database management systems like MySQL, PostgreSQL, or NoSQL databases.\n",
    "\n",
    "7. **Communication Skills**:\n",
    "   - **Importance**: Effectively communicating findings to non-technical stakeholders such as coaches, players, or team executives is crucial. This involves presenting data insights clearly and concisely.\n",
    "   - **Application**: Ability to create reports, presentations, and data stories that are accessible and actionable.\n",
    "\n",
    "8. **Problem-Solving and Critical Thinking**:\n",
    "   - **Importance**: The ability to approach complex problems, identify patterns, and generate insights is key to providing valuable analysis.\n",
    "   - **Application**: Applying analytical thinking to solve specific sports-related questions or challenges.\n",
    "\n",
    "9. **Attention to Detail**:\n",
    "   - **Importance**: Precision is crucial in sports data analysis to ensure the accuracy and reliability of the insights derived.\n",
    "   - **Application**: Careful examination of data and results to avoid errors and ensure robustness.\n",
    "\n",
    "These skills collectively enable sports data analysts to transform raw data into actionable insights, support decision-making, and contribute to the strategic planning of sports teams and organizations."
   ]
  },
  {
   "cell_type": "markdown",
   "id": "8e3ae14c",
   "metadata": {},
   "source": [
    "Chatbot Session Summary\n",
    "\n",
    "\n",
    "1. **Importance of Key Skills in Data Science**:\n",
    "   - **Learning and Adaptability**: Critical for staying current with evolving tools and practices.\n",
    "   - **Communication**: Essential for translating complex data insights to non-technical stakeholders.\n",
    "   - **Coding**: Fundamental for data manipulation, analysis, and system integration.\n",
    "   - **Statistics and Data Analysis**: Core to interpreting data and making evidence-based decisions.\n",
    "\n",
    "2. **Challenges Without Coding or Data Analysis**:\n",
    "   - It's difficult to be a statistician or data scientist without these skills as they are integral to performing technical and analytical tasks.\n",
    "\n",
    "3. **Valuable Skills for Sports Data Analysis**:\n",
    "   - **Statistical Analysis**: Key for interpreting and predicting performance and outcomes.\n",
    "   - **Data Visualization**: Helps in presenting data insights effectively.\n",
    "   - **Coding and Programming**: Necessary for data manipulation and custom analysis tools.\n",
    "   - **Sports Knowledge**: Important for contextualizing data and insights.\n",
    "   - **Machine Learning and Predictive Modeling**: Useful for forecasting and advanced analytics.\n",
    "   - **Database Management**: Essential for handling large datasets efficiently.\n",
    "   - **Communication Skills**: Important for conveying findings to stakeholders.\n",
    "   - **Problem-Solving and Critical Thinking**: Needed for generating actionable insights.\n",
    "   - **Attention to Detail**: Ensures accuracy and reliability in analysis.\n",
    "\n",
    "These skills collectively enhance the ability to provide valuable analysis and insights in the field of sports data analysis."
   ]
  },
  {
   "cell_type": "markdown",
   "id": "c6e91e79",
   "metadata": {},
   "source": [
    "https://chatgpt.com/share/66eb47fe-68d4-8002-a1db-e30d4d621863"
   ]
  },
  {
   "cell_type": "markdown",
   "id": "3af22587",
   "metadata": {},
   "source": [
    "8.4\n",
    "\n",
    "To build these skills, focusing on continuous learning, practicing coding, and gaining hands-on experience with statistical tools and data analysis techniques will be essential. Additionally, improving communication abilities and developing a deep understanding of sports will be beneficial. Engaging in projects, seeking mentorship, and participating in relevant training or courses can help in building these competencies and advancing towards a career in data science or sports data analysis."
   ]
  },
  {
   "cell_type": "markdown",
   "id": "5091d2fd",
   "metadata": {},
   "source": [
    "8.5 ( My thoughts regarding the helpfulness or limitations of your conversation with a ChatBot)\n",
    "\n",
    "Advantages:\n",
    "\n",
    "1. **Immediate Access to Information**: I can provide quick answers and explanations, saving you time and helping you understand complex topics efficiently.\n",
    "2. **24/7 Availability**: You can ask questions and seek guidance at any time, making it easier to get support when needed.\n",
    "3. **Broad Knowledge Base**: I can offer insights on a wide range of topics, which can be useful for exploring new areas or getting an overview of specific fields.\n",
    "\n",
    "Limitations:\n",
    "\n",
    "1. **Lack of Personal Experience**: While I can provide general advice and information, I don't have personal experience or insights into specific situations, which can sometimes limit the depth of my responses.\n",
    "2. **Contextual Understanding**: My understanding is based on patterns in the data I've been trained on, so I might not fully grasp nuanced or context-specific aspects of your situation.\n",
    "3. **Interaction Depth**: For complex, highly specialized, or nuanced discussions, interacting with a human expert might provide more tailored and in-depth insights.\n",
    "."
   ]
  },
  {
   "cell_type": "code",
   "execution_count": null,
   "id": "c30333d4",
   "metadata": {},
   "outputs": [],
   "source": []
  }
 ],
 "metadata": {
  "kernelspec": {
   "display_name": "Python 3 (ipykernel)",
   "language": "python",
   "name": "python3"
  },
  "language_info": {
   "codemirror_mode": {
    "name": "ipython",
    "version": 3
   },
   "file_extension": ".py",
   "mimetype": "text/x-python",
   "name": "python",
   "nbconvert_exporter": "python",
   "pygments_lexer": "ipython3",
   "version": "3.11.6"
  }
 },
 "nbformat": 4,
 "nbformat_minor": 5
}
